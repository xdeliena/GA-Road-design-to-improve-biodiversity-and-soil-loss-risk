{
  "nbformat": 4,
  "nbformat_minor": 0,
  "metadata": {
    "colab": {
      "provenance": []
    },
    "kernelspec": {
      "name": "python3",
      "display_name": "Python 3"
    },
    "language_info": {
      "name": "python"
    }
  },
  "cells": [
    {
      "cell_type": "code",
      "source": [
        "import random\n",
        "import numpy as np\n",
        "from matplotlib import pyplot as plt\n",
        "\n",
        "# Constants based on table data\n",
        "table_data = {\n",
        "    \"biodiversity\": {5: 29599, 4: 34536, 3: 9611, 2: 8399, 1: 3941},\n",
        "    \"soil_erosion\": {5: 47937, 4: 27788, 3: 8922, 2: 1388, 1: 96},\n",
        "    \"cost\": {5: 40705, 4: 20763, 3: 10177, 2: 8429, 1: 6002}\n",
        "}\n",
        "\n",
        "# Parameters for GA\n",
        "population_size = 20\n",
        "num_generations = 50\n",
        "crossover_rate = 0.7\n",
        "mutation_rate = 0.1\n",
        "\n",
        "# Define the objective function\n",
        "def fitness_function(chromosome):\n",
        "    total_fitness = 0\n",
        "    for cell in chromosome:\n",
        "        x1 = cell['biodiversity']\n",
        "        x2 = cell['soil_erosion']\n",
        "        x3 = cell['cost']\n",
        "        fitness = (2 ** x1 * weightB) + (2 ** x2 * weightH) + (2 ** x3 * weightC)\n",
        "        total_fitness += fitness\n",
        "    # Adjust fitness by decided constant (∂) and path value (β)\n",
        "    beta = sum(cell['cost'] for cell in chromosome)\n",
        "    delta = 1  # Decided constant\n",
        "    return (total_fitness - beta) / delta\n",
        "\n",
        "# Initialize population\n",
        "def initialize_population():\n",
        "    population = []\n",
        "    for _ in range(population_size):\n",
        "        chromosome = [\n",
        "            {\n",
        "                'biodiversity': random.choice(list(table_data[\"biodiversity\"].keys())),\n",
        "                'soil_erosion': random.choice(list(table_data[\"soil_erosion\"].keys())),\n",
        "                'cost': random.choice(list(table_data[\"cost\"].keys()))\n",
        "            }\n",
        "            for _ in range(random.randint(5, 10))  # Random path length\n",
        "        ]\n",
        "        population.append(chromosome)\n",
        "    return population\n",
        "\n",
        "# Selection\n",
        "def selection(population):\n",
        "    population = sorted(population, key=fitness_function, reverse=True)\n",
        "    return population[:population_size // 2]\n",
        "\n",
        "# Crossover\n",
        "def crossover(parent1, parent2):\n",
        "    if random.random() < crossover_rate:\n",
        "        common_indices = list(set(range(len(parent1))) & set(range(len(parent2))))\n",
        "        if common_indices:\n",
        "            crossover_point = random.choice(common_indices)\n",
        "            child1 = parent1[:crossover_point] + parent2[crossover_point:]\n",
        "            child2 = parent2[:crossover_point] + parent1[crossover_point:]\n",
        "            return child1, child2\n",
        "    return parent1, parent2\n",
        "\n",
        "# Mutation\n",
        "def mutation(chromosome):\n",
        "    for gene in chromosome:\n",
        "        if random.random() < mutation_rate:\n",
        "            gene['biodiversity'] = random.choice(list(table_data[\"biodiversity\"].keys()))\n",
        "            gene['soil_erosion'] = random.choice(list(table_data[\"soil_erosion\"].keys()))\n",
        "            gene['cost'] = random.choice(list(table_data[\"cost\"].keys()))\n",
        "    return chromosome\n",
        "\n",
        "# Genetic Algorithm\n",
        "def genetic_algorithm():\n",
        "    population = initialize_population()\n",
        "    best_fitness_over_time = []\n",
        "    for generation in range(num_generations):\n",
        "        selected_parents = selection(population)\n",
        "        next_generation = []\n",
        "        while len(next_generation) < population_size:\n",
        "            parent1, parent2 = random.sample(selected_parents, 2)\n",
        "            child1, child2 = crossover(parent1, parent2)\n",
        "            next_generation.append(mutation(child1))\n",
        "            next_generation.append(mutation(child2))\n",
        "        population = next_generation[:population_size]\n",
        "\n",
        "    # Get the best solution\n",
        "    best_solution = max(population, key=fitness_function)\n",
        "    return best_solution, fitness_function(best_solution)"
      ],
      "metadata": {
        "id": "OSjYQQIyKtTI"
      },
      "execution_count": null,
      "outputs": []
    },
    {
      "cell_type": "code",
      "source": [
        "# Weights for each objective to prioritize biodiversity\n",
        "weightB = 0.6  # Biodiversity\n",
        "weightH = 0.2  # Soil erosion (Hazard)\n",
        "weightC = 0.2  # Cost\n",
        "\n",
        "# Run the algorithm\n",
        "best_solution, best_fitness = genetic_algorithm()\n",
        "print(\"Best Solution:\", best_solution)\n",
        "print(\"Best Fitness:\", best_fitness)"
      ],
      "metadata": {
        "id": "4Vmm1JMmU56R"
      },
      "execution_count": null,
      "outputs": []
    },
    {
      "cell_type": "code",
      "source": [
        "# Weights for each objective to prioritize soil erosion\n",
        "weightB = 0.2  # Biodiversity\n",
        "weightH = 0.6  # Soil erosion (Hazard)\n",
        "weightC = 0.2  # Cost\n",
        "\n",
        "# Run the algorithm\n",
        "best_solution, best_fitness = genetic_algorithm()\n",
        "print(\"Best Solution:\", best_solution)\n",
        "print(\"Best Fitness:\", best_fitness)"
      ],
      "metadata": {
        "id": "tcxMud9dVcYe"
      },
      "execution_count": null,
      "outputs": []
    },
    {
      "cell_type": "code",
      "source": [
        "# Weights for each objective to prioritize cost\n",
        "weightB = 0.2  # Biodiversity\n",
        "weightH = 0.2  # Soil erosion (Hazard)\n",
        "weightC = 0.6  # Cost\n",
        "\n",
        "# Run the algorithm\n",
        "best_solution, best_fitness = genetic_algorithm()\n",
        "print(\"Best Solution:\", best_solution)\n",
        "print(\"Best Fitness:\", best_fitness)"
      ],
      "metadata": {
        "id": "9WKcxO3TVuEw"
      },
      "execution_count": null,
      "outputs": []
    },
    {
      "cell_type": "code",
      "source": [
        "# Weights for each objective to prioritize balance\n",
        "weightB = 0.33  # Biodiversity\n",
        "weightH = 0.33  # Soil erosion (Hazard)\n",
        "weightC = 0.33  # Cost\n",
        "\n",
        "# Run the algorithm\n",
        "best_solution, best_fitness = genetic_algorithm()\n",
        "print(\"Best Solution:\", best_solution)\n",
        "print(\"Best Fitness:\", best_fitness)"
      ],
      "metadata": {
        "id": "nmXz312zVyiA"
      },
      "execution_count": null,
      "outputs": []
    }
  ]
}